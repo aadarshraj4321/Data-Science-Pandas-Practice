{
 "cells": [
  {
   "cell_type": "code",
   "execution_count": 5,
   "metadata": {},
   "outputs": [],
   "source": [
    "import pandas as pd\n",
    "import numpy as np"
   ]
  },
  {
   "cell_type": "code",
   "execution_count": 8,
   "metadata": {},
   "outputs": [],
   "source": [
    "df = pd.read_csv(\"amazon_fire.csv\", encoding = \"latin\")"
   ]
  },
  {
   "cell_type": "code",
   "execution_count": 9,
   "metadata": {},
   "outputs": [
    {
     "data": {
      "text/html": [
       "<div>\n",
       "<style scoped>\n",
       "    .dataframe tbody tr th:only-of-type {\n",
       "        vertical-align: middle;\n",
       "    }\n",
       "\n",
       "    .dataframe tbody tr th {\n",
       "        vertical-align: top;\n",
       "    }\n",
       "\n",
       "    .dataframe thead th {\n",
       "        text-align: right;\n",
       "    }\n",
       "</style>\n",
       "<table border=\"1\" class=\"dataframe\">\n",
       "  <thead>\n",
       "    <tr style=\"text-align: right;\">\n",
       "      <th></th>\n",
       "      <th>ano</th>\n",
       "      <th>mes</th>\n",
       "      <th>estado</th>\n",
       "      <th>numero</th>\n",
       "      <th>encontro</th>\n",
       "    </tr>\n",
       "  </thead>\n",
       "  <tbody>\n",
       "    <tr>\n",
       "      <th>0</th>\n",
       "      <td>1998</td>\n",
       "      <td>Janeiro</td>\n",
       "      <td>Acre</td>\n",
       "      <td>0 Fires</td>\n",
       "      <td>1/1/1998</td>\n",
       "    </tr>\n",
       "    <tr>\n",
       "      <th>1</th>\n",
       "      <td>1999</td>\n",
       "      <td>Janeiro</td>\n",
       "      <td>Acre</td>\n",
       "      <td>0 Fires</td>\n",
       "      <td>1/1/1999</td>\n",
       "    </tr>\n",
       "    <tr>\n",
       "      <th>2</th>\n",
       "      <td>2000</td>\n",
       "      <td>Janeiro</td>\n",
       "      <td>Acre</td>\n",
       "      <td>0 Fires</td>\n",
       "      <td>1/1/2000</td>\n",
       "    </tr>\n",
       "    <tr>\n",
       "      <th>3</th>\n",
       "      <td>2001</td>\n",
       "      <td>Janeiro</td>\n",
       "      <td>Acre</td>\n",
       "      <td>0 Fires</td>\n",
       "      <td>1/1/2001</td>\n",
       "    </tr>\n",
       "    <tr>\n",
       "      <th>4</th>\n",
       "      <td>2002</td>\n",
       "      <td>Janeiro</td>\n",
       "      <td>Acre</td>\n",
       "      <td>0 Fires</td>\n",
       "      <td>1/1/2002</td>\n",
       "    </tr>\n",
       "  </tbody>\n",
       "</table>\n",
       "</div>"
      ],
      "text/plain": [
       "    ano      mes estado   numero  encontro\n",
       "0  1998  Janeiro   Acre  0 Fires  1/1/1998\n",
       "1  1999  Janeiro   Acre  0 Fires  1/1/1999\n",
       "2  2000  Janeiro   Acre  0 Fires  1/1/2000\n",
       "3  2001  Janeiro   Acre  0 Fires  1/1/2001\n",
       "4  2002  Janeiro   Acre  0 Fires  1/1/2002"
      ]
     },
     "execution_count": 9,
     "metadata": {},
     "output_type": "execute_result"
    }
   ],
   "source": [
    "df.head()"
   ]
  },
  {
   "cell_type": "code",
   "execution_count": 10,
   "metadata": {},
   "outputs": [
    {
     "data": {
      "text/plain": [
       "(6454, 5)"
      ]
     },
     "execution_count": 10,
     "metadata": {},
     "output_type": "execute_result"
    }
   ],
   "source": [
    "df.shape"
   ]
  },
  {
   "cell_type": "code",
   "execution_count": 11,
   "metadata": {},
   "outputs": [
    {
     "data": {
      "text/plain": [
       "ano          int64\n",
       "mes         object\n",
       "estado      object\n",
       "numero      object\n",
       "encontro    object\n",
       "dtype: object"
      ]
     },
     "execution_count": 11,
     "metadata": {},
     "output_type": "execute_result"
    }
   ],
   "source": [
    "df.dtypes"
   ]
  },
  {
   "cell_type": "code",
   "execution_count": 12,
   "metadata": {},
   "outputs": [
    {
     "name": "stdout",
     "output_type": "stream",
     "text": [
      "<class 'pandas.core.frame.DataFrame'>\n",
      "RangeIndex: 6454 entries, 0 to 6453\n",
      "Data columns (total 5 columns):\n",
      " #   Column    Non-Null Count  Dtype \n",
      "---  ------    --------------  ----- \n",
      " 0   ano       6454 non-null   int64 \n",
      " 1   mes       6454 non-null   object\n",
      " 2   estado    6454 non-null   object\n",
      " 3   numero    6322 non-null   object\n",
      " 4   encontro  6454 non-null   object\n",
      "dtypes: int64(1), object(4)\n",
      "memory usage: 252.2+ KB\n"
     ]
    }
   ],
   "source": [
    "df.info()"
   ]
  },
  {
   "cell_type": "code",
   "execution_count": 13,
   "metadata": {},
   "outputs": [
    {
     "data": {
      "text/html": [
       "<div>\n",
       "<style scoped>\n",
       "    .dataframe tbody tr th:only-of-type {\n",
       "        vertical-align: middle;\n",
       "    }\n",
       "\n",
       "    .dataframe tbody tr th {\n",
       "        vertical-align: top;\n",
       "    }\n",
       "\n",
       "    .dataframe thead th {\n",
       "        text-align: right;\n",
       "    }\n",
       "</style>\n",
       "<table border=\"1\" class=\"dataframe\">\n",
       "  <thead>\n",
       "    <tr style=\"text-align: right;\">\n",
       "      <th></th>\n",
       "      <th>ano</th>\n",
       "    </tr>\n",
       "  </thead>\n",
       "  <tbody>\n",
       "    <tr>\n",
       "      <th>count</th>\n",
       "      <td>6454.000000</td>\n",
       "    </tr>\n",
       "    <tr>\n",
       "      <th>mean</th>\n",
       "      <td>2007.461729</td>\n",
       "    </tr>\n",
       "    <tr>\n",
       "      <th>std</th>\n",
       "      <td>5.746654</td>\n",
       "    </tr>\n",
       "    <tr>\n",
       "      <th>min</th>\n",
       "      <td>1998.000000</td>\n",
       "    </tr>\n",
       "    <tr>\n",
       "      <th>25%</th>\n",
       "      <td>2002.000000</td>\n",
       "    </tr>\n",
       "    <tr>\n",
       "      <th>50%</th>\n",
       "      <td>2007.000000</td>\n",
       "    </tr>\n",
       "    <tr>\n",
       "      <th>75%</th>\n",
       "      <td>2012.000000</td>\n",
       "    </tr>\n",
       "    <tr>\n",
       "      <th>max</th>\n",
       "      <td>2017.000000</td>\n",
       "    </tr>\n",
       "  </tbody>\n",
       "</table>\n",
       "</div>"
      ],
      "text/plain": [
       "               ano\n",
       "count  6454.000000\n",
       "mean   2007.461729\n",
       "std       5.746654\n",
       "min    1998.000000\n",
       "25%    2002.000000\n",
       "50%    2007.000000\n",
       "75%    2012.000000\n",
       "max    2017.000000"
      ]
     },
     "execution_count": 13,
     "metadata": {},
     "output_type": "execute_result"
    }
   ],
   "source": [
    "df.describe()"
   ]
  },
  {
   "cell_type": "code",
   "execution_count": 14,
   "metadata": {},
   "outputs": [
    {
     "data": {
      "text/html": [
       "<div>\n",
       "<style scoped>\n",
       "    .dataframe tbody tr th:only-of-type {\n",
       "        vertical-align: middle;\n",
       "    }\n",
       "\n",
       "    .dataframe tbody tr th {\n",
       "        vertical-align: top;\n",
       "    }\n",
       "\n",
       "    .dataframe thead th {\n",
       "        text-align: right;\n",
       "    }\n",
       "</style>\n",
       "<table border=\"1\" class=\"dataframe\">\n",
       "  <thead>\n",
       "    <tr style=\"text-align: right;\">\n",
       "      <th></th>\n",
       "      <th>ano</th>\n",
       "      <th>mes</th>\n",
       "      <th>estado</th>\n",
       "      <th>numero</th>\n",
       "      <th>encontro</th>\n",
       "    </tr>\n",
       "  </thead>\n",
       "  <tbody>\n",
       "    <tr>\n",
       "      <th>0</th>\n",
       "      <td>1998</td>\n",
       "      <td>Janeiro</td>\n",
       "      <td>Acre</td>\n",
       "      <td>0 Fires</td>\n",
       "      <td>1/1/1998</td>\n",
       "    </tr>\n",
       "    <tr>\n",
       "      <th>1</th>\n",
       "      <td>1999</td>\n",
       "      <td>Janeiro</td>\n",
       "      <td>Acre</td>\n",
       "      <td>0 Fires</td>\n",
       "      <td>1/1/1999</td>\n",
       "    </tr>\n",
       "    <tr>\n",
       "      <th>2</th>\n",
       "      <td>2000</td>\n",
       "      <td>Janeiro</td>\n",
       "      <td>Acre</td>\n",
       "      <td>0 Fires</td>\n",
       "      <td>1/1/2000</td>\n",
       "    </tr>\n",
       "    <tr>\n",
       "      <th>3</th>\n",
       "      <td>2001</td>\n",
       "      <td>Janeiro</td>\n",
       "      <td>Acre</td>\n",
       "      <td>0 Fires</td>\n",
       "      <td>1/1/2001</td>\n",
       "    </tr>\n",
       "    <tr>\n",
       "      <th>4</th>\n",
       "      <td>2002</td>\n",
       "      <td>Janeiro</td>\n",
       "      <td>Acre</td>\n",
       "      <td>0 Fires</td>\n",
       "      <td>1/1/2002</td>\n",
       "    </tr>\n",
       "  </tbody>\n",
       "</table>\n",
       "</div>"
      ],
      "text/plain": [
       "    ano      mes estado   numero  encontro\n",
       "0  1998  Janeiro   Acre  0 Fires  1/1/1998\n",
       "1  1999  Janeiro   Acre  0 Fires  1/1/1999\n",
       "2  2000  Janeiro   Acre  0 Fires  1/1/2000\n",
       "3  2001  Janeiro   Acre  0 Fires  1/1/2001\n",
       "4  2002  Janeiro   Acre  0 Fires  1/1/2002"
      ]
     },
     "execution_count": 14,
     "metadata": {},
     "output_type": "execute_result"
    }
   ],
   "source": [
    "df.head()"
   ]
  },
  {
   "cell_type": "code",
   "execution_count": 15,
   "metadata": {},
   "outputs": [
    {
     "data": {
      "text/html": [
       "<div>\n",
       "<style scoped>\n",
       "    .dataframe tbody tr th:only-of-type {\n",
       "        vertical-align: middle;\n",
       "    }\n",
       "\n",
       "    .dataframe tbody tr th {\n",
       "        vertical-align: top;\n",
       "    }\n",
       "\n",
       "    .dataframe thead th {\n",
       "        text-align: right;\n",
       "    }\n",
       "</style>\n",
       "<table border=\"1\" class=\"dataframe\">\n",
       "  <thead>\n",
       "    <tr style=\"text-align: right;\">\n",
       "      <th></th>\n",
       "      <th>ano</th>\n",
       "      <th>mes</th>\n",
       "      <th>estado</th>\n",
       "      <th>numero</th>\n",
       "      <th>encontro</th>\n",
       "    </tr>\n",
       "  </thead>\n",
       "  <tbody>\n",
       "    <tr>\n",
       "      <th>6449</th>\n",
       "      <td>2012</td>\n",
       "      <td>Dezembro</td>\n",
       "      <td>Tocantins</td>\n",
       "      <td>128</td>\n",
       "      <td>1/1/2012</td>\n",
       "    </tr>\n",
       "    <tr>\n",
       "      <th>6450</th>\n",
       "      <td>2013</td>\n",
       "      <td>Dezembro</td>\n",
       "      <td>Tocantins</td>\n",
       "      <td>85</td>\n",
       "      <td>1/1/2013</td>\n",
       "    </tr>\n",
       "    <tr>\n",
       "      <th>6451</th>\n",
       "      <td>2014</td>\n",
       "      <td>Dezembro</td>\n",
       "      <td>Tocantins</td>\n",
       "      <td>223</td>\n",
       "      <td>1/1/2014</td>\n",
       "    </tr>\n",
       "    <tr>\n",
       "      <th>6452</th>\n",
       "      <td>2015</td>\n",
       "      <td>Dezembro</td>\n",
       "      <td>Tocantins</td>\n",
       "      <td>373</td>\n",
       "      <td>1/1/2015</td>\n",
       "    </tr>\n",
       "    <tr>\n",
       "      <th>6453</th>\n",
       "      <td>2016</td>\n",
       "      <td>Dezembro</td>\n",
       "      <td>Tocantins</td>\n",
       "      <td>119</td>\n",
       "      <td>1/1/2016</td>\n",
       "    </tr>\n",
       "  </tbody>\n",
       "</table>\n",
       "</div>"
      ],
      "text/plain": [
       "       ano       mes     estado numero  encontro\n",
       "6449  2012  Dezembro  Tocantins    128  1/1/2012\n",
       "6450  2013  Dezembro  Tocantins     85  1/1/2013\n",
       "6451  2014  Dezembro  Tocantins    223  1/1/2014\n",
       "6452  2015  Dezembro  Tocantins    373  1/1/2015\n",
       "6453  2016  Dezembro  Tocantins    119  1/1/2016"
      ]
     },
     "execution_count": 15,
     "metadata": {},
     "output_type": "execute_result"
    }
   ],
   "source": [
    "df.tail()"
   ]
  },
  {
   "cell_type": "code",
   "execution_count": 16,
   "metadata": {},
   "outputs": [
    {
     "data": {
      "text/plain": [
       "array(['Acre', 'alagoas', 'Amapa', 'Amazonas', 'Bahia', 'Ceara',\n",
       "       'Distrito Federal', 'Espirito Santo', 'Goias', 'Maranhao',\n",
       "       'Mato Grosso', 'Minas Gerais', 'pará', 'Paraiba', 'Pernambuco',\n",
       "       'Piau', 'Rio', 'rondonia', 'Roraima', 'Santa Catarina',\n",
       "       'Sao Paulo', 'Sergipe', 'Tocantins'], dtype=object)"
      ]
     },
     "execution_count": 16,
     "metadata": {},
     "output_type": "execute_result"
    }
   ],
   "source": [
    "df[\"estado\"].uniqueque()"
   ]
  },
  {
   "cell_type": "code",
   "execution_count": 17,
   "metadata": {},
   "outputs": [
    {
     "data": {
      "text/plain": [
       "23"
      ]
     },
     "execution_count": 17,
     "metadata": {},
     "output_type": "execute_result"
    }
   ],
   "source": [
    "len(df[\"estado\"].unique())"
   ]
  },
  {
   "cell_type": "code",
   "execution_count": 19,
   "metadata": {},
   "outputs": [],
   "source": [
    "new_col = {\"ano\" : \"year\",\n",
    "          \"mes\" : \"month\",\n",
    "          \"estado\" : \"state\",\n",
    "          \"numero\" : \"number_of_fires\",\n",
    "          \"encontro\" : \"date\"}\n",
    "\n",
    "df.rename(columns = new_col, inplace = True)"
   ]
  },
  {
   "cell_type": "code",
   "execution_count": 20,
   "metadata": {},
   "outputs": [
    {
     "data": {
      "text/html": [
       "<div>\n",
       "<style scoped>\n",
       "    .dataframe tbody tr th:only-of-type {\n",
       "        vertical-align: middle;\n",
       "    }\n",
       "\n",
       "    .dataframe tbody tr th {\n",
       "        vertical-align: top;\n",
       "    }\n",
       "\n",
       "    .dataframe thead th {\n",
       "        text-align: right;\n",
       "    }\n",
       "</style>\n",
       "<table border=\"1\" class=\"dataframe\">\n",
       "  <thead>\n",
       "    <tr style=\"text-align: right;\">\n",
       "      <th></th>\n",
       "      <th>year</th>\n",
       "      <th>month</th>\n",
       "      <th>state</th>\n",
       "      <th>number_of_fires</th>\n",
       "      <th>date</th>\n",
       "    </tr>\n",
       "  </thead>\n",
       "  <tbody>\n",
       "    <tr>\n",
       "      <th>0</th>\n",
       "      <td>1998</td>\n",
       "      <td>Janeiro</td>\n",
       "      <td>Acre</td>\n",
       "      <td>0 Fires</td>\n",
       "      <td>1/1/1998</td>\n",
       "    </tr>\n",
       "    <tr>\n",
       "      <th>1</th>\n",
       "      <td>1999</td>\n",
       "      <td>Janeiro</td>\n",
       "      <td>Acre</td>\n",
       "      <td>0 Fires</td>\n",
       "      <td>1/1/1999</td>\n",
       "    </tr>\n",
       "    <tr>\n",
       "      <th>2</th>\n",
       "      <td>2000</td>\n",
       "      <td>Janeiro</td>\n",
       "      <td>Acre</td>\n",
       "      <td>0 Fires</td>\n",
       "      <td>1/1/2000</td>\n",
       "    </tr>\n",
       "    <tr>\n",
       "      <th>3</th>\n",
       "      <td>2001</td>\n",
       "      <td>Janeiro</td>\n",
       "      <td>Acre</td>\n",
       "      <td>0 Fires</td>\n",
       "      <td>1/1/2001</td>\n",
       "    </tr>\n",
       "    <tr>\n",
       "      <th>4</th>\n",
       "      <td>2002</td>\n",
       "      <td>Janeiro</td>\n",
       "      <td>Acre</td>\n",
       "      <td>0 Fires</td>\n",
       "      <td>1/1/2002</td>\n",
       "    </tr>\n",
       "  </tbody>\n",
       "</table>\n",
       "</div>"
      ],
      "text/plain": [
       "   year    month state number_of_fires      date\n",
       "0  1998  Janeiro  Acre         0 Fires  1/1/1998\n",
       "1  1999  Janeiro  Acre         0 Fires  1/1/1999\n",
       "2  2000  Janeiro  Acre         0 Fires  1/1/2000\n",
       "3  2001  Janeiro  Acre         0 Fires  1/1/2001\n",
       "4  2002  Janeiro  Acre         0 Fires  1/1/2002"
      ]
     },
     "execution_count": 20,
     "metadata": {},
     "output_type": "execute_result"
    }
   ],
   "source": [
    "df.head()"
   ]
  },
  {
   "cell_type": "code",
   "execution_count": 21,
   "metadata": {},
   "outputs": [
    {
     "data": {
      "text/plain": [
       "array([1998, 1999, 2000, 2001, 2002, 2003, 2004, 2005, 2006, 2007, 2008,\n",
       "       2009, 2010, 2011, 2012, 2013, 2014, 2015, 2016, 2017], dtype=int64)"
      ]
     },
     "execution_count": 21,
     "metadata": {},
     "output_type": "execute_result"
    }
   ],
   "source": [
    "df[\"year\"].unique()"
   ]
  },
  {
   "cell_type": "code",
   "execution_count": 22,
   "metadata": {},
   "outputs": [
    {
     "name": "stdout",
     "output_type": "stream",
     "text": [
      "<class 'pandas.core.frame.DataFrame'>\n",
      "RangeIndex: 6454 entries, 0 to 6453\n",
      "Data columns (total 5 columns):\n",
      " #   Column           Non-Null Count  Dtype \n",
      "---  ------           --------------  ----- \n",
      " 0   year             6454 non-null   int64 \n",
      " 1   month            6454 non-null   object\n",
      " 2   state            6454 non-null   object\n",
      " 3   number_of_fires  6322 non-null   object\n",
      " 4   date             6454 non-null   object\n",
      "dtypes: int64(1), object(4)\n",
      "memory usage: 252.2+ KB\n"
     ]
    }
   ],
   "source": [
    "df.info()"
   ]
  },
  {
   "cell_type": "markdown",
   "metadata": {},
   "source": [
    "## Re-arranging columns"
   ]
  },
  {
   "cell_type": "code",
   "execution_count": 23,
   "metadata": {},
   "outputs": [],
   "source": [
    "new_order = [4, 1, 0, 2, 3]\n",
    "df = df[df.columns[new_order]]"
   ]
  },
  {
   "cell_type": "code",
   "execution_count": 24,
   "metadata": {},
   "outputs": [
    {
     "data": {
      "text/html": [
       "<div>\n",
       "<style scoped>\n",
       "    .dataframe tbody tr th:only-of-type {\n",
       "        vertical-align: middle;\n",
       "    }\n",
       "\n",
       "    .dataframe tbody tr th {\n",
       "        vertical-align: top;\n",
       "    }\n",
       "\n",
       "    .dataframe thead th {\n",
       "        text-align: right;\n",
       "    }\n",
       "</style>\n",
       "<table border=\"1\" class=\"dataframe\">\n",
       "  <thead>\n",
       "    <tr style=\"text-align: right;\">\n",
       "      <th></th>\n",
       "      <th>date</th>\n",
       "      <th>month</th>\n",
       "      <th>year</th>\n",
       "      <th>state</th>\n",
       "      <th>number_of_fires</th>\n",
       "    </tr>\n",
       "  </thead>\n",
       "  <tbody>\n",
       "    <tr>\n",
       "      <th>0</th>\n",
       "      <td>1/1/1998</td>\n",
       "      <td>Janeiro</td>\n",
       "      <td>1998</td>\n",
       "      <td>Acre</td>\n",
       "      <td>0 Fires</td>\n",
       "    </tr>\n",
       "    <tr>\n",
       "      <th>1</th>\n",
       "      <td>1/1/1999</td>\n",
       "      <td>Janeiro</td>\n",
       "      <td>1999</td>\n",
       "      <td>Acre</td>\n",
       "      <td>0 Fires</td>\n",
       "    </tr>\n",
       "    <tr>\n",
       "      <th>2</th>\n",
       "      <td>1/1/2000</td>\n",
       "      <td>Janeiro</td>\n",
       "      <td>2000</td>\n",
       "      <td>Acre</td>\n",
       "      <td>0 Fires</td>\n",
       "    </tr>\n",
       "    <tr>\n",
       "      <th>3</th>\n",
       "      <td>1/1/2001</td>\n",
       "      <td>Janeiro</td>\n",
       "      <td>2001</td>\n",
       "      <td>Acre</td>\n",
       "      <td>0 Fires</td>\n",
       "    </tr>\n",
       "    <tr>\n",
       "      <th>4</th>\n",
       "      <td>1/1/2002</td>\n",
       "      <td>Janeiro</td>\n",
       "      <td>2002</td>\n",
       "      <td>Acre</td>\n",
       "      <td>0 Fires</td>\n",
       "    </tr>\n",
       "  </tbody>\n",
       "</table>\n",
       "</div>"
      ],
      "text/plain": [
       "       date    month  year state number_of_fires\n",
       "0  1/1/1998  Janeiro  1998  Acre         0 Fires\n",
       "1  1/1/1999  Janeiro  1999  Acre         0 Fires\n",
       "2  1/1/2000  Janeiro  2000  Acre         0 Fires\n",
       "3  1/1/2001  Janeiro  2001  Acre         0 Fires\n",
       "4  1/1/2002  Janeiro  2002  Acre         0 Fires"
      ]
     },
     "execution_count": 24,
     "metadata": {},
     "output_type": "execute_result"
    }
   ],
   "source": [
    "df.head()"
   ]
  },
  {
   "cell_type": "code",
   "execution_count": 27,
   "metadata": {},
   "outputs": [
    {
     "data": {
      "text/plain": [
       "0       False\n",
       "1       False\n",
       "2       False\n",
       "3       False\n",
       "4       False\n",
       "        ...  \n",
       "6449     True\n",
       "6450     True\n",
       "6451     True\n",
       "6452     True\n",
       "6453     True\n",
       "Name: number_of_fires, Length: 6454, dtype: object"
      ]
     },
     "execution_count": 27,
     "metadata": {},
     "output_type": "execute_result"
    }
   ],
   "source": [
    "df[\"number_of_fires\"].str.isnumeric()"
   ]
  },
  {
   "cell_type": "code",
   "execution_count": 29,
   "metadata": {},
   "outputs": [
    {
     "data": {
      "text/plain": [
       "0       False\n",
       "1       False\n",
       "2       False\n",
       "3       False\n",
       "4       False\n",
       "        ...  \n",
       "6449     True\n",
       "6450     True\n",
       "6451     True\n",
       "6452     True\n",
       "6453     True\n",
       "Name: number_of_fires, Length: 6454, dtype: bool"
      ]
     },
     "execution_count": 29,
     "metadata": {},
     "output_type": "execute_result"
    }
   ],
   "source": [
    "df[\"number_of_fires\"].astype(str).str.isdigit()"
   ]
  },
  {
   "cell_type": "code",
   "execution_count": 73,
   "metadata": {},
   "outputs": [
    {
     "data": {
      "text/html": [
       "<div>\n",
       "<style scoped>\n",
       "    .dataframe tbody tr th:only-of-type {\n",
       "        vertical-align: middle;\n",
       "    }\n",
       "\n",
       "    .dataframe tbody tr th {\n",
       "        vertical-align: top;\n",
       "    }\n",
       "\n",
       "    .dataframe thead th {\n",
       "        text-align: right;\n",
       "    }\n",
       "</style>\n",
       "<table border=\"1\" class=\"dataframe\">\n",
       "  <thead>\n",
       "    <tr style=\"text-align: right;\">\n",
       "      <th></th>\n",
       "      <th>date</th>\n",
       "      <th>month</th>\n",
       "      <th>year</th>\n",
       "      <th>state</th>\n",
       "      <th>number_of_fires</th>\n",
       "    </tr>\n",
       "  </thead>\n",
       "  <tbody>\n",
       "    <tr>\n",
       "      <th>0</th>\n",
       "      <td>1/1/1998</td>\n",
       "      <td>Janeiro</td>\n",
       "      <td>1998</td>\n",
       "      <td>Acre</td>\n",
       "      <td>0 Fires</td>\n",
       "    </tr>\n",
       "    <tr>\n",
       "      <th>1</th>\n",
       "      <td>1/1/1999</td>\n",
       "      <td>Janeiro</td>\n",
       "      <td>1999</td>\n",
       "      <td>Acre</td>\n",
       "      <td>0 Fires</td>\n",
       "    </tr>\n",
       "    <tr>\n",
       "      <th>2</th>\n",
       "      <td>1/1/2000</td>\n",
       "      <td>Janeiro</td>\n",
       "      <td>2000</td>\n",
       "      <td>Acre</td>\n",
       "      <td>0 Fires</td>\n",
       "    </tr>\n",
       "    <tr>\n",
       "      <th>3</th>\n",
       "      <td>1/1/2001</td>\n",
       "      <td>Janeiro</td>\n",
       "      <td>2001</td>\n",
       "      <td>Acre</td>\n",
       "      <td>0 Fires</td>\n",
       "    </tr>\n",
       "    <tr>\n",
       "      <th>4</th>\n",
       "      <td>1/1/2002</td>\n",
       "      <td>Janeiro</td>\n",
       "      <td>2002</td>\n",
       "      <td>Acre</td>\n",
       "      <td>0 Fires</td>\n",
       "    </tr>\n",
       "    <tr>\n",
       "      <th>...</th>\n",
       "      <td>...</td>\n",
       "      <td>...</td>\n",
       "      <td>...</td>\n",
       "      <td>...</td>\n",
       "      <td>...</td>\n",
       "    </tr>\n",
       "    <tr>\n",
       "      <th>1995</th>\n",
       "      <td>1/1/2000</td>\n",
       "      <td>Maio</td>\n",
       "      <td>2000</td>\n",
       "      <td>Goias</td>\n",
       "      <td>0 Fires</td>\n",
       "    </tr>\n",
       "    <tr>\n",
       "      <th>2014</th>\n",
       "      <td>1/1/1999</td>\n",
       "      <td>Junho</td>\n",
       "      <td>1999</td>\n",
       "      <td>Goias</td>\n",
       "      <td>0 Fires</td>\n",
       "    </tr>\n",
       "    <tr>\n",
       "      <th>2017</th>\n",
       "      <td>1/1/2002</td>\n",
       "      <td>Junho</td>\n",
       "      <td>2002</td>\n",
       "      <td>Goias</td>\n",
       "      <td>0 Fires</td>\n",
       "    </tr>\n",
       "    <tr>\n",
       "      <th>2033</th>\n",
       "      <td>1/1/1998</td>\n",
       "      <td>Julho</td>\n",
       "      <td>1998</td>\n",
       "      <td>Goias</td>\n",
       "      <td>0 Fires</td>\n",
       "    </tr>\n",
       "    <tr>\n",
       "      <th>2053</th>\n",
       "      <td>1/1/1998</td>\n",
       "      <td>Agosto</td>\n",
       "      <td>1998</td>\n",
       "      <td>Goias</td>\n",
       "      <td>0 Fires</td>\n",
       "    </tr>\n",
       "  </tbody>\n",
       "</table>\n",
       "<p>169 rows × 5 columns</p>\n",
       "</div>"
      ],
      "text/plain": [
       "          date    month  year  state number_of_fires\n",
       "0     1/1/1998  Janeiro  1998   Acre         0 Fires\n",
       "1     1/1/1999  Janeiro  1999   Acre         0 Fires\n",
       "2     1/1/2000  Janeiro  2000   Acre         0 Fires\n",
       "3     1/1/2001  Janeiro  2001   Acre         0 Fires\n",
       "4     1/1/2002  Janeiro  2002   Acre         0 Fires\n",
       "...        ...      ...   ...    ...             ...\n",
       "1995  1/1/2000     Maio  2000  Goias         0 Fires\n",
       "2014  1/1/1999    Junho  1999  Goias         0 Fires\n",
       "2017  1/1/2002    Junho  2002  Goias         0 Fires\n",
       "2033  1/1/1998    Julho  1998  Goias         0 Fires\n",
       "2053  1/1/1998   Agosto  1998  Goias         0 Fires\n",
       "\n",
       "[169 rows x 5 columns]"
      ]
     },
     "execution_count": 73,
     "metadata": {},
     "output_type": "execute_result"
    }
   ],
   "source": [
    "df[df.number_of_fires == \"0 Fires\"]"
   ]
  },
  {
   "cell_type": "code",
   "execution_count": 76,
   "metadata": {},
   "outputs": [],
   "source": [
    "#df.loc[df.a.str.contains(\"foo\", na=False)]\n",
    "fires = df.loc[df.number_of_fires.str.contains(\"Fires\", na = False)]"
   ]
  },
  {
   "cell_type": "code",
   "execution_count": 77,
   "metadata": {},
   "outputs": [
    {
     "data": {
      "text/html": [
       "<div>\n",
       "<style scoped>\n",
       "    .dataframe tbody tr th:only-of-type {\n",
       "        vertical-align: middle;\n",
       "    }\n",
       "\n",
       "    .dataframe tbody tr th {\n",
       "        vertical-align: top;\n",
       "    }\n",
       "\n",
       "    .dataframe thead th {\n",
       "        text-align: right;\n",
       "    }\n",
       "</style>\n",
       "<table border=\"1\" class=\"dataframe\">\n",
       "  <thead>\n",
       "    <tr style=\"text-align: right;\">\n",
       "      <th></th>\n",
       "      <th>date</th>\n",
       "      <th>month</th>\n",
       "      <th>year</th>\n",
       "      <th>state</th>\n",
       "      <th>number_of_fires</th>\n",
       "    </tr>\n",
       "  </thead>\n",
       "  <tbody>\n",
       "    <tr>\n",
       "      <th>0</th>\n",
       "      <td>1/1/1998</td>\n",
       "      <td>Janeiro</td>\n",
       "      <td>1998</td>\n",
       "      <td>Acre</td>\n",
       "      <td>0 Fires</td>\n",
       "    </tr>\n",
       "    <tr>\n",
       "      <th>1</th>\n",
       "      <td>1/1/1999</td>\n",
       "      <td>Janeiro</td>\n",
       "      <td>1999</td>\n",
       "      <td>Acre</td>\n",
       "      <td>0 Fires</td>\n",
       "    </tr>\n",
       "    <tr>\n",
       "      <th>2</th>\n",
       "      <td>1/1/2000</td>\n",
       "      <td>Janeiro</td>\n",
       "      <td>2000</td>\n",
       "      <td>Acre</td>\n",
       "      <td>0 Fires</td>\n",
       "    </tr>\n",
       "    <tr>\n",
       "      <th>3</th>\n",
       "      <td>1/1/2001</td>\n",
       "      <td>Janeiro</td>\n",
       "      <td>2001</td>\n",
       "      <td>Acre</td>\n",
       "      <td>0 Fires</td>\n",
       "    </tr>\n",
       "    <tr>\n",
       "      <th>4</th>\n",
       "      <td>1/1/2002</td>\n",
       "      <td>Janeiro</td>\n",
       "      <td>2002</td>\n",
       "      <td>Acre</td>\n",
       "      <td>0 Fires</td>\n",
       "    </tr>\n",
       "    <tr>\n",
       "      <th>...</th>\n",
       "      <td>...</td>\n",
       "      <td>...</td>\n",
       "      <td>...</td>\n",
       "      <td>...</td>\n",
       "      <td>...</td>\n",
       "    </tr>\n",
       "    <tr>\n",
       "      <th>2146</th>\n",
       "      <td>1/1/2011</td>\n",
       "      <td>Dezembro</td>\n",
       "      <td>2011</td>\n",
       "      <td>Goias</td>\n",
       "      <td>24 Fires</td>\n",
       "    </tr>\n",
       "    <tr>\n",
       "      <th>2147</th>\n",
       "      <td>1/1/2012</td>\n",
       "      <td>Dezembro</td>\n",
       "      <td>2012</td>\n",
       "      <td>Goias</td>\n",
       "      <td>32 Fires</td>\n",
       "    </tr>\n",
       "    <tr>\n",
       "      <th>2149</th>\n",
       "      <td>1/1/2014</td>\n",
       "      <td>Dezembro</td>\n",
       "      <td>2014</td>\n",
       "      <td>Goias</td>\n",
       "      <td>45 Fires</td>\n",
       "    </tr>\n",
       "    <tr>\n",
       "      <th>2150</th>\n",
       "      <td>1/1/2015</td>\n",
       "      <td>Dezembro</td>\n",
       "      <td>2015</td>\n",
       "      <td>Goias</td>\n",
       "      <td>19 Fires</td>\n",
       "    </tr>\n",
       "    <tr>\n",
       "      <th>2151</th>\n",
       "      <td>1/1/2016</td>\n",
       "      <td>Dezembro</td>\n",
       "      <td>2016</td>\n",
       "      <td>Goias</td>\n",
       "      <td>20 Fires</td>\n",
       "    </tr>\n",
       "  </tbody>\n",
       "</table>\n",
       "<p>934 rows × 5 columns</p>\n",
       "</div>"
      ],
      "text/plain": [
       "          date     month  year  state number_of_fires\n",
       "0     1/1/1998   Janeiro  1998   Acre         0 Fires\n",
       "1     1/1/1999   Janeiro  1999   Acre         0 Fires\n",
       "2     1/1/2000   Janeiro  2000   Acre         0 Fires\n",
       "3     1/1/2001   Janeiro  2001   Acre         0 Fires\n",
       "4     1/1/2002   Janeiro  2002   Acre         0 Fires\n",
       "...        ...       ...   ...    ...             ...\n",
       "2146  1/1/2011  Dezembro  2011  Goias        24 Fires\n",
       "2147  1/1/2012  Dezembro  2012  Goias        32 Fires\n",
       "2149  1/1/2014  Dezembro  2014  Goias        45 Fires\n",
       "2150  1/1/2015  Dezembro  2015  Goias        19 Fires\n",
       "2151  1/1/2016  Dezembro  2016  Goias        20 Fires\n",
       "\n",
       "[934 rows x 5 columns]"
      ]
     },
     "execution_count": 77,
     "metadata": {},
     "output_type": "execute_result"
    }
   ],
   "source": [
    "fires"
   ]
  },
  {
   "cell_type": "code",
   "execution_count": 79,
   "metadata": {},
   "outputs": [
    {
     "data": {
      "text/plain": [
       "0         0\n",
       "1         0\n",
       "2         0\n",
       "3         0\n",
       "4         0\n",
       "       ... \n",
       "6449    128\n",
       "6450     85\n",
       "6451    223\n",
       "6452    373\n",
       "6453    119\n",
       "Name: number_of_fires, Length: 6454, dtype: object"
      ]
     },
     "execution_count": 79,
     "metadata": {},
     "output_type": "execute_result"
    }
   ],
   "source": [
    "df[\"number_of_fires\"].str.strip(\" Fires\")"
   ]
  },
  {
   "cell_type": "code",
   "execution_count": 80,
   "metadata": {},
   "outputs": [
    {
     "data": {
      "text/html": [
       "<div>\n",
       "<style scoped>\n",
       "    .dataframe tbody tr th:only-of-type {\n",
       "        vertical-align: middle;\n",
       "    }\n",
       "\n",
       "    .dataframe tbody tr th {\n",
       "        vertical-align: top;\n",
       "    }\n",
       "\n",
       "    .dataframe thead th {\n",
       "        text-align: right;\n",
       "    }\n",
       "</style>\n",
       "<table border=\"1\" class=\"dataframe\">\n",
       "  <thead>\n",
       "    <tr style=\"text-align: right;\">\n",
       "      <th></th>\n",
       "      <th>date</th>\n",
       "      <th>month</th>\n",
       "      <th>year</th>\n",
       "      <th>state</th>\n",
       "      <th>number_of_fires</th>\n",
       "    </tr>\n",
       "  </thead>\n",
       "  <tbody>\n",
       "    <tr>\n",
       "      <th>0</th>\n",
       "      <td>1/1/1998</td>\n",
       "      <td>Janeiro</td>\n",
       "      <td>1998</td>\n",
       "      <td>Acre</td>\n",
       "      <td>0 Fires</td>\n",
       "    </tr>\n",
       "    <tr>\n",
       "      <th>1</th>\n",
       "      <td>1/1/1999</td>\n",
       "      <td>Janeiro</td>\n",
       "      <td>1999</td>\n",
       "      <td>Acre</td>\n",
       "      <td>0 Fires</td>\n",
       "    </tr>\n",
       "    <tr>\n",
       "      <th>2</th>\n",
       "      <td>1/1/2000</td>\n",
       "      <td>Janeiro</td>\n",
       "      <td>2000</td>\n",
       "      <td>Acre</td>\n",
       "      <td>0 Fires</td>\n",
       "    </tr>\n",
       "    <tr>\n",
       "      <th>3</th>\n",
       "      <td>1/1/2001</td>\n",
       "      <td>Janeiro</td>\n",
       "      <td>2001</td>\n",
       "      <td>Acre</td>\n",
       "      <td>0 Fires</td>\n",
       "    </tr>\n",
       "    <tr>\n",
       "      <th>4</th>\n",
       "      <td>1/1/2002</td>\n",
       "      <td>Janeiro</td>\n",
       "      <td>2002</td>\n",
       "      <td>Acre</td>\n",
       "      <td>0 Fires</td>\n",
       "    </tr>\n",
       "  </tbody>\n",
       "</table>\n",
       "</div>"
      ],
      "text/plain": [
       "       date    month  year state number_of_fires\n",
       "0  1/1/1998  Janeiro  1998  Acre         0 Fires\n",
       "1  1/1/1999  Janeiro  1999  Acre         0 Fires\n",
       "2  1/1/2000  Janeiro  2000  Acre         0 Fires\n",
       "3  1/1/2001  Janeiro  2001  Acre         0 Fires\n",
       "4  1/1/2002  Janeiro  2002  Acre         0 Fires"
      ]
     },
     "execution_count": 80,
     "metadata": {},
     "output_type": "execute_result"
    }
   ],
   "source": [
    "df.head()"
   ]
  },
  {
   "cell_type": "code",
   "execution_count": 81,
   "metadata": {},
   "outputs": [],
   "source": [
    "df[\"number_of_fires\"] = df[\"number_of_fires\"].str.strip(\" Fires\")"
   ]
  },
  {
   "cell_type": "code",
   "execution_count": 82,
   "metadata": {},
   "outputs": [
    {
     "data": {
      "text/html": [
       "<div>\n",
       "<style scoped>\n",
       "    .dataframe tbody tr th:only-of-type {\n",
       "        vertical-align: middle;\n",
       "    }\n",
       "\n",
       "    .dataframe tbody tr th {\n",
       "        vertical-align: top;\n",
       "    }\n",
       "\n",
       "    .dataframe thead th {\n",
       "        text-align: right;\n",
       "    }\n",
       "</style>\n",
       "<table border=\"1\" class=\"dataframe\">\n",
       "  <thead>\n",
       "    <tr style=\"text-align: right;\">\n",
       "      <th></th>\n",
       "      <th>date</th>\n",
       "      <th>month</th>\n",
       "      <th>year</th>\n",
       "      <th>state</th>\n",
       "      <th>number_of_fires</th>\n",
       "    </tr>\n",
       "  </thead>\n",
       "  <tbody>\n",
       "    <tr>\n",
       "      <th>0</th>\n",
       "      <td>1/1/1998</td>\n",
       "      <td>Janeiro</td>\n",
       "      <td>1998</td>\n",
       "      <td>Acre</td>\n",
       "      <td>0</td>\n",
       "    </tr>\n",
       "    <tr>\n",
       "      <th>1</th>\n",
       "      <td>1/1/1999</td>\n",
       "      <td>Janeiro</td>\n",
       "      <td>1999</td>\n",
       "      <td>Acre</td>\n",
       "      <td>0</td>\n",
       "    </tr>\n",
       "    <tr>\n",
       "      <th>2</th>\n",
       "      <td>1/1/2000</td>\n",
       "      <td>Janeiro</td>\n",
       "      <td>2000</td>\n",
       "      <td>Acre</td>\n",
       "      <td>0</td>\n",
       "    </tr>\n",
       "    <tr>\n",
       "      <th>3</th>\n",
       "      <td>1/1/2001</td>\n",
       "      <td>Janeiro</td>\n",
       "      <td>2001</td>\n",
       "      <td>Acre</td>\n",
       "      <td>0</td>\n",
       "    </tr>\n",
       "    <tr>\n",
       "      <th>4</th>\n",
       "      <td>1/1/2002</td>\n",
       "      <td>Janeiro</td>\n",
       "      <td>2002</td>\n",
       "      <td>Acre</td>\n",
       "      <td>0</td>\n",
       "    </tr>\n",
       "  </tbody>\n",
       "</table>\n",
       "</div>"
      ],
      "text/plain": [
       "       date    month  year state number_of_fires\n",
       "0  1/1/1998  Janeiro  1998  Acre               0\n",
       "1  1/1/1999  Janeiro  1999  Acre               0\n",
       "2  1/1/2000  Janeiro  2000  Acre               0\n",
       "3  1/1/2001  Janeiro  2001  Acre               0\n",
       "4  1/1/2002  Janeiro  2002  Acre               0"
      ]
     },
     "execution_count": 82,
     "metadata": {},
     "output_type": "execute_result"
    }
   ],
   "source": [
    "df.head()"
   ]
  },
  {
   "cell_type": "code",
   "execution_count": 83,
   "metadata": {},
   "outputs": [
    {
     "name": "stdout",
     "output_type": "stream",
     "text": [
      "<class 'pandas.core.frame.DataFrame'>\n",
      "RangeIndex: 6454 entries, 0 to 6453\n",
      "Data columns (total 5 columns):\n",
      " #   Column           Non-Null Count  Dtype \n",
      "---  ------           --------------  ----- \n",
      " 0   date             6454 non-null   object\n",
      " 1   month            6454 non-null   object\n",
      " 2   year             6454 non-null   int64 \n",
      " 3   state            6454 non-null   object\n",
      " 4   number_of_fires  6322 non-null   object\n",
      "dtypes: int64(1), object(4)\n",
      "memory usage: 252.2+ KB\n"
     ]
    }
   ],
   "source": [
    "df.info()"
   ]
  },
  {
   "cell_type": "code",
   "execution_count": 85,
   "metadata": {},
   "outputs": [],
   "source": [
    "df[\"number_of_fires\"] = df[\"number_of_fires\"].str.replace(\"\", \"0\").astype(float)"
   ]
  },
  {
   "cell_type": "code",
   "execution_count": 86,
   "metadata": {},
   "outputs": [
    {
     "data": {
      "text/html": [
       "<div>\n",
       "<style scoped>\n",
       "    .dataframe tbody tr th:only-of-type {\n",
       "        vertical-align: middle;\n",
       "    }\n",
       "\n",
       "    .dataframe tbody tr th {\n",
       "        vertical-align: top;\n",
       "    }\n",
       "\n",
       "    .dataframe thead th {\n",
       "        text-align: right;\n",
       "    }\n",
       "</style>\n",
       "<table border=\"1\" class=\"dataframe\">\n",
       "  <thead>\n",
       "    <tr style=\"text-align: right;\">\n",
       "      <th></th>\n",
       "      <th>date</th>\n",
       "      <th>month</th>\n",
       "      <th>year</th>\n",
       "      <th>state</th>\n",
       "      <th>number_of_fires</th>\n",
       "    </tr>\n",
       "  </thead>\n",
       "  <tbody>\n",
       "    <tr>\n",
       "      <th>0</th>\n",
       "      <td>1/1/1998</td>\n",
       "      <td>Janeiro</td>\n",
       "      <td>1998</td>\n",
       "      <td>Acre</td>\n",
       "      <td>0.0</td>\n",
       "    </tr>\n",
       "    <tr>\n",
       "      <th>1</th>\n",
       "      <td>1/1/1999</td>\n",
       "      <td>Janeiro</td>\n",
       "      <td>1999</td>\n",
       "      <td>Acre</td>\n",
       "      <td>0.0</td>\n",
       "    </tr>\n",
       "    <tr>\n",
       "      <th>2</th>\n",
       "      <td>1/1/2000</td>\n",
       "      <td>Janeiro</td>\n",
       "      <td>2000</td>\n",
       "      <td>Acre</td>\n",
       "      <td>0.0</td>\n",
       "    </tr>\n",
       "    <tr>\n",
       "      <th>3</th>\n",
       "      <td>1/1/2001</td>\n",
       "      <td>Janeiro</td>\n",
       "      <td>2001</td>\n",
       "      <td>Acre</td>\n",
       "      <td>0.0</td>\n",
       "    </tr>\n",
       "    <tr>\n",
       "      <th>4</th>\n",
       "      <td>1/1/2002</td>\n",
       "      <td>Janeiro</td>\n",
       "      <td>2002</td>\n",
       "      <td>Acre</td>\n",
       "      <td>0.0</td>\n",
       "    </tr>\n",
       "  </tbody>\n",
       "</table>\n",
       "</div>"
      ],
      "text/plain": [
       "       date    month  year state  number_of_fires\n",
       "0  1/1/1998  Janeiro  1998  Acre              0.0\n",
       "1  1/1/1999  Janeiro  1999  Acre              0.0\n",
       "2  1/1/2000  Janeiro  2000  Acre              0.0\n",
       "3  1/1/2001  Janeiro  2001  Acre              0.0\n",
       "4  1/1/2002  Janeiro  2002  Acre              0.0"
      ]
     },
     "execution_count": 86,
     "metadata": {},
     "output_type": "execute_result"
    }
   ],
   "source": [
    "df.head()"
   ]
  },
  {
   "cell_type": "code",
   "execution_count": 87,
   "metadata": {},
   "outputs": [
    {
     "name": "stdout",
     "output_type": "stream",
     "text": [
      "<class 'pandas.core.frame.DataFrame'>\n",
      "RangeIndex: 6454 entries, 0 to 6453\n",
      "Data columns (total 5 columns):\n",
      " #   Column           Non-Null Count  Dtype  \n",
      "---  ------           --------------  -----  \n",
      " 0   date             6454 non-null   object \n",
      " 1   month            6454 non-null   object \n",
      " 2   year             6454 non-null   int64  \n",
      " 3   state            6454 non-null   object \n",
      " 4   number_of_fires  6322 non-null   float64\n",
      "dtypes: float64(1), int64(1), object(3)\n",
      "memory usage: 252.2+ KB\n"
     ]
    }
   ],
   "source": [
    "df.info()"
   ]
  },
  {
   "cell_type": "code",
   "execution_count": 88,
   "metadata": {},
   "outputs": [
    {
     "data": {
      "text/plain": [
       "date                 0\n",
       "month                0\n",
       "year                 0\n",
       "state                0\n",
       "number_of_fires    132\n",
       "dtype: int64"
      ]
     },
     "execution_count": 88,
     "metadata": {},
     "output_type": "execute_result"
    }
   ],
   "source": [
    "df.isnull().sum()"
   ]
  },
  {
   "cell_type": "code",
   "execution_count": 89,
   "metadata": {},
   "outputs": [],
   "source": [
    "df.dropna(inplace=True)"
   ]
  },
  {
   "cell_type": "code",
   "execution_count": 90,
   "metadata": {},
   "outputs": [
    {
     "data": {
      "text/html": [
       "<div>\n",
       "<style scoped>\n",
       "    .dataframe tbody tr th:only-of-type {\n",
       "        vertical-align: middle;\n",
       "    }\n",
       "\n",
       "    .dataframe tbody tr th {\n",
       "        vertical-align: top;\n",
       "    }\n",
       "\n",
       "    .dataframe thead th {\n",
       "        text-align: right;\n",
       "    }\n",
       "</style>\n",
       "<table border=\"1\" class=\"dataframe\">\n",
       "  <thead>\n",
       "    <tr style=\"text-align: right;\">\n",
       "      <th></th>\n",
       "      <th>date</th>\n",
       "      <th>month</th>\n",
       "      <th>year</th>\n",
       "      <th>state</th>\n",
       "      <th>number_of_fires</th>\n",
       "    </tr>\n",
       "  </thead>\n",
       "  <tbody>\n",
       "    <tr>\n",
       "      <th>0</th>\n",
       "      <td>1/1/1998</td>\n",
       "      <td>Janeiro</td>\n",
       "      <td>1998</td>\n",
       "      <td>Acre</td>\n",
       "      <td>0.0</td>\n",
       "    </tr>\n",
       "    <tr>\n",
       "      <th>1</th>\n",
       "      <td>1/1/1999</td>\n",
       "      <td>Janeiro</td>\n",
       "      <td>1999</td>\n",
       "      <td>Acre</td>\n",
       "      <td>0.0</td>\n",
       "    </tr>\n",
       "    <tr>\n",
       "      <th>2</th>\n",
       "      <td>1/1/2000</td>\n",
       "      <td>Janeiro</td>\n",
       "      <td>2000</td>\n",
       "      <td>Acre</td>\n",
       "      <td>0.0</td>\n",
       "    </tr>\n",
       "    <tr>\n",
       "      <th>3</th>\n",
       "      <td>1/1/2001</td>\n",
       "      <td>Janeiro</td>\n",
       "      <td>2001</td>\n",
       "      <td>Acre</td>\n",
       "      <td>0.0</td>\n",
       "    </tr>\n",
       "    <tr>\n",
       "      <th>4</th>\n",
       "      <td>1/1/2002</td>\n",
       "      <td>Janeiro</td>\n",
       "      <td>2002</td>\n",
       "      <td>Acre</td>\n",
       "      <td>0.0</td>\n",
       "    </tr>\n",
       "  </tbody>\n",
       "</table>\n",
       "</div>"
      ],
      "text/plain": [
       "       date    month  year state  number_of_fires\n",
       "0  1/1/1998  Janeiro  1998  Acre              0.0\n",
       "1  1/1/1999  Janeiro  1999  Acre              0.0\n",
       "2  1/1/2000  Janeiro  2000  Acre              0.0\n",
       "3  1/1/2001  Janeiro  2001  Acre              0.0\n",
       "4  1/1/2002  Janeiro  2002  Acre              0.0"
      ]
     },
     "execution_count": 90,
     "metadata": {},
     "output_type": "execute_result"
    }
   ],
   "source": [
    "df.head()"
   ]
  },
  {
   "cell_type": "code",
   "execution_count": 91,
   "metadata": {},
   "outputs": [],
   "source": [
    "df = df.reset_index()"
   ]
  },
  {
   "cell_type": "code",
   "execution_count": 92,
   "metadata": {},
   "outputs": [
    {
     "data": {
      "text/html": [
       "<div>\n",
       "<style scoped>\n",
       "    .dataframe tbody tr th:only-of-type {\n",
       "        vertical-align: middle;\n",
       "    }\n",
       "\n",
       "    .dataframe tbody tr th {\n",
       "        vertical-align: top;\n",
       "    }\n",
       "\n",
       "    .dataframe thead th {\n",
       "        text-align: right;\n",
       "    }\n",
       "</style>\n",
       "<table border=\"1\" class=\"dataframe\">\n",
       "  <thead>\n",
       "    <tr style=\"text-align: right;\">\n",
       "      <th></th>\n",
       "      <th>index</th>\n",
       "      <th>date</th>\n",
       "      <th>month</th>\n",
       "      <th>year</th>\n",
       "      <th>state</th>\n",
       "      <th>number_of_fires</th>\n",
       "    </tr>\n",
       "  </thead>\n",
       "  <tbody>\n",
       "    <tr>\n",
       "      <th>0</th>\n",
       "      <td>0</td>\n",
       "      <td>1/1/1998</td>\n",
       "      <td>Janeiro</td>\n",
       "      <td>1998</td>\n",
       "      <td>Acre</td>\n",
       "      <td>0.0</td>\n",
       "    </tr>\n",
       "    <tr>\n",
       "      <th>1</th>\n",
       "      <td>1</td>\n",
       "      <td>1/1/1999</td>\n",
       "      <td>Janeiro</td>\n",
       "      <td>1999</td>\n",
       "      <td>Acre</td>\n",
       "      <td>0.0</td>\n",
       "    </tr>\n",
       "    <tr>\n",
       "      <th>2</th>\n",
       "      <td>2</td>\n",
       "      <td>1/1/2000</td>\n",
       "      <td>Janeiro</td>\n",
       "      <td>2000</td>\n",
       "      <td>Acre</td>\n",
       "      <td>0.0</td>\n",
       "    </tr>\n",
       "    <tr>\n",
       "      <th>3</th>\n",
       "      <td>3</td>\n",
       "      <td>1/1/2001</td>\n",
       "      <td>Janeiro</td>\n",
       "      <td>2001</td>\n",
       "      <td>Acre</td>\n",
       "      <td>0.0</td>\n",
       "    </tr>\n",
       "    <tr>\n",
       "      <th>4</th>\n",
       "      <td>4</td>\n",
       "      <td>1/1/2002</td>\n",
       "      <td>Janeiro</td>\n",
       "      <td>2002</td>\n",
       "      <td>Acre</td>\n",
       "      <td>0.0</td>\n",
       "    </tr>\n",
       "  </tbody>\n",
       "</table>\n",
       "</div>"
      ],
      "text/plain": [
       "   index      date    month  year state  number_of_fires\n",
       "0      0  1/1/1998  Janeiro  1998  Acre              0.0\n",
       "1      1  1/1/1999  Janeiro  1999  Acre              0.0\n",
       "2      2  1/1/2000  Janeiro  2000  Acre              0.0\n",
       "3      3  1/1/2001  Janeiro  2001  Acre              0.0\n",
       "4      4  1/1/2002  Janeiro  2002  Acre              0.0"
      ]
     },
     "execution_count": 92,
     "metadata": {},
     "output_type": "execute_result"
    }
   ],
   "source": [
    "df.head()"
   ]
  },
  {
   "cell_type": "code",
   "execution_count": 93,
   "metadata": {},
   "outputs": [
    {
     "name": "stdout",
     "output_type": "stream",
     "text": [
      "<class 'pandas.core.frame.DataFrame'>\n",
      "RangeIndex: 6322 entries, 0 to 6321\n",
      "Data columns (total 6 columns):\n",
      " #   Column           Non-Null Count  Dtype  \n",
      "---  ------           --------------  -----  \n",
      " 0   index            6322 non-null   int64  \n",
      " 1   date             6322 non-null   object \n",
      " 2   month            6322 non-null   object \n",
      " 3   year             6322 non-null   int64  \n",
      " 4   state            6322 non-null   object \n",
      " 5   number_of_fires  6322 non-null   float64\n",
      "dtypes: float64(1), int64(2), object(3)\n",
      "memory usage: 296.5+ KB\n"
     ]
    }
   ],
   "source": [
    "df.info()"
   ]
  },
  {
   "cell_type": "code",
   "execution_count": 95,
   "metadata": {},
   "outputs": [
    {
     "data": {
      "text/plain": [
       "index              0\n",
       "date               0\n",
       "month              0\n",
       "year               0\n",
       "state              0\n",
       "number_of_fires    0\n",
       "dtype: int64"
      ]
     },
     "execution_count": 95,
     "metadata": {},
     "output_type": "execute_result"
    }
   ],
   "source": [
    "df.isnull().sum()"
   ]
  },
  {
   "cell_type": "code",
   "execution_count": 97,
   "metadata": {},
   "outputs": [
    {
     "data": {
      "text/plain": [
       "0       False\n",
       "1       False\n",
       "2       False\n",
       "3       False\n",
       "4       False\n",
       "        ...  \n",
       "6317    False\n",
       "6318    False\n",
       "6319    False\n",
       "6320    False\n",
       "6321    False\n",
       "Name: number_of_fires, Length: 6322, dtype: bool"
      ]
     },
     "execution_count": 97,
     "metadata": {},
     "output_type": "execute_result"
    }
   ],
   "source": [
    "df[\"number_of_fires\"].isnull()"
   ]
  },
  {
   "cell_type": "code",
   "execution_count": null,
   "metadata": {},
   "outputs": [],
   "source": []
  }
 ],
 "metadata": {
  "kernelspec": {
   "display_name": "Python 3",
   "language": "python",
   "name": "python3"
  },
  "language_info": {
   "codemirror_mode": {
    "name": "ipython",
    "version": 3
   },
   "file_extension": ".py",
   "mimetype": "text/x-python",
   "name": "python",
   "nbconvert_exporter": "python",
   "pygments_lexer": "ipython3",
   "version": "3.7.4"
  }
 },
 "nbformat": 4,
 "nbformat_minor": 4
}
